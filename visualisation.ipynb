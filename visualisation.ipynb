{
  "nbformat": 4,
  "nbformat_minor": 5,
  "metadata": {
    "kernelspec": {
      "display_name": "Python 3",
      "language": "python",
      "name": "python3"
    },
    "language_info": {
      "codemirror_mode": {
        "name": "ipython",
        "version": 3
      },
      "file_extension": ".py",
      "mimetype": "text/x-python",
      "name": "python",
      "nbconvert_exporter": "python",
      "pygments_lexer": "ipython3",
      "version": "3.8.5"
    },
    "colab": {
      "name": "visualisation.ipynb",
      "provenance": [],
      "include_colab_link": true
    }
  },
  "cells": [
    {
      "cell_type": "markdown",
      "metadata": {
        "id": "view-in-github",
        "colab_type": "text"
      },
      "source": [
        "<a href=\"https://colab.research.google.com/github/GezhinOleg/Py_Stat_L2/blob/main/visualisation.ipynb\" target=\"_parent\"><img src=\"https://colab.research.google.com/assets/colab-badge.svg\" alt=\"Open In Colab\"/></a>"
      ]
    },
    {
      "cell_type": "markdown",
      "metadata": {
        "id": "threatened-consumption"
      },
      "source": [
        "# Домашнее задание к лекции \"Визуализация данных\""
      ],
      "id": "threatened-consumption"
    },
    {
      "cell_type": "markdown",
      "metadata": {
        "id": "thirty-malawi"
      },
      "source": [
        "## Обязательная часть\n",
        "\n",
        "Вам необходимо провести базовый [EDA](https://en.wikipedia.org/wiki/Exploratory_data_analysis) выбранного набора данных. \n",
        "\n",
        "Требования к анализу:\n",
        "- построить не менее 4 визуализаций различных видов;\n",
        "- каждая визуализация должным образом оформлена и читается даже в отрыве от контекста; \n",
        "- по каждой визуализации необходимо написать вывод (какую гипотезу на ее основе можно выдвинуть?).\n",
        "\n",
        "**Откуда брать данные?**\n",
        "\n",
        "Можете взять свои рабочие данные, либо найти открытые данные (например, на [kaggle.com](https://www.kaggle.com/)) по интересующей вас предметной области (тогда не забудьте их выложить на github вместе с ноутбуком). Если идей нет, можете взять один из перечисленных ниже:\n",
        "- [данные приложений из Google Play](https://www.kaggle.com/lava18/google-play-store-apps);\n",
        "- [данные о видео из трендов YouTube](https://www.kaggle.com/datasnaek/youtube-new);\n",
        "- [данные об уровне счастья в разных странах](https://www.kaggle.com/unsdsn/world-happiness).\n"
      ],
      "id": "thirty-malawi"
    },
    {
      "cell_type": "markdown",
      "metadata": {
        "id": "prime-companion"
      },
      "source": [
        "### Дополнительная часть (необязательная)\n",
        "\n",
        "* построить дополнительно не менее 2 визуализаций (итого не менее 6);\n",
        "* в работе должны присутствовать следующие визуализации: boxplot, heatmap, scatter plot matrix;"
      ],
      "id": "prime-companion"
    },
    {
      "cell_type": "code",
      "metadata": {
        "id": "vanilla-planet"
      },
      "source": [
        "import matplotlib.pyplot as plt\n",
        "import pandas as pd\n",
        "import numpy as np\n",
        "#увеличим дефолтный размер графиков\n",
        "from pylab import rcParams\n",
        "rcParams['figure.figsize'] = 11,5"
      ],
      "id": "vanilla-planet",
      "execution_count": null,
      "outputs": []
    },
    {
      "cell_type": "code",
      "metadata": {
        "id": "eligible-despite"
      },
      "source": [
        "df2015 = pd.read_csv('2015.csv')\n",
        "df2016 = pd.read_csv('2016.csv')\n",
        "df2017 = pd.read_csv('2017.csv')\n",
        "df2018 = pd.read_csv('2018.csv')\n",
        "df2019 = pd.read_csv('2019.csv')"
      ],
      "id": "eligible-despite",
      "execution_count": null,
      "outputs": []
    },
    {
      "cell_type": "code",
      "metadata": {
        "id": "looking-intersection",
        "outputId": "936292c8-b6b3-4408-8486-4f62eb812b3d"
      },
      "source": [
        "df2015.info()\n",
        "df2015.head()"
      ],
      "id": "looking-intersection",
      "execution_count": null,
      "outputs": [
        {
          "name": "stdout",
          "output_type": "stream",
          "text": [
            "<class 'pandas.core.frame.DataFrame'>\n",
            "RangeIndex: 158 entries, 0 to 157\n",
            "Data columns (total 12 columns):\n",
            " #   Column                         Non-Null Count  Dtype  \n",
            "---  ------                         --------------  -----  \n",
            " 0   Country                        158 non-null    object \n",
            " 1   Region                         158 non-null    object \n",
            " 2   Happiness Rank                 158 non-null    int64  \n",
            " 3   Happiness Score                158 non-null    float64\n",
            " 4   Standard Error                 158 non-null    float64\n",
            " 5   Economy (GDP per Capita)       158 non-null    float64\n",
            " 6   Family                         158 non-null    float64\n",
            " 7   Health (Life Expectancy)       158 non-null    float64\n",
            " 8   Freedom                        158 non-null    float64\n",
            " 9   Trust (Government Corruption)  158 non-null    float64\n",
            " 10  Generosity                     158 non-null    float64\n",
            " 11  Dystopia Residual              158 non-null    float64\n",
            "dtypes: float64(9), int64(1), object(2)\n",
            "memory usage: 14.9+ KB\n"
          ]
        },
        {
          "data": {
            "text/html": [
              "<div>\n",
              "<style scoped>\n",
              "    .dataframe tbody tr th:only-of-type {\n",
              "        vertical-align: middle;\n",
              "    }\n",
              "\n",
              "    .dataframe tbody tr th {\n",
              "        vertical-align: top;\n",
              "    }\n",
              "\n",
              "    .dataframe thead th {\n",
              "        text-align: right;\n",
              "    }\n",
              "</style>\n",
              "<table border=\"1\" class=\"dataframe\">\n",
              "  <thead>\n",
              "    <tr style=\"text-align: right;\">\n",
              "      <th></th>\n",
              "      <th>Country</th>\n",
              "      <th>Region</th>\n",
              "      <th>Happiness Rank</th>\n",
              "      <th>Happiness Score</th>\n",
              "      <th>Standard Error</th>\n",
              "      <th>Economy (GDP per Capita)</th>\n",
              "      <th>Family</th>\n",
              "      <th>Health (Life Expectancy)</th>\n",
              "      <th>Freedom</th>\n",
              "      <th>Trust (Government Corruption)</th>\n",
              "      <th>Generosity</th>\n",
              "      <th>Dystopia Residual</th>\n",
              "    </tr>\n",
              "  </thead>\n",
              "  <tbody>\n",
              "    <tr>\n",
              "      <th>0</th>\n",
              "      <td>Switzerland</td>\n",
              "      <td>Western Europe</td>\n",
              "      <td>1</td>\n",
              "      <td>7.587</td>\n",
              "      <td>0.03411</td>\n",
              "      <td>1.39651</td>\n",
              "      <td>1.34951</td>\n",
              "      <td>0.94143</td>\n",
              "      <td>0.66557</td>\n",
              "      <td>0.41978</td>\n",
              "      <td>0.29678</td>\n",
              "      <td>2.51738</td>\n",
              "    </tr>\n",
              "    <tr>\n",
              "      <th>1</th>\n",
              "      <td>Iceland</td>\n",
              "      <td>Western Europe</td>\n",
              "      <td>2</td>\n",
              "      <td>7.561</td>\n",
              "      <td>0.04884</td>\n",
              "      <td>1.30232</td>\n",
              "      <td>1.40223</td>\n",
              "      <td>0.94784</td>\n",
              "      <td>0.62877</td>\n",
              "      <td>0.14145</td>\n",
              "      <td>0.43630</td>\n",
              "      <td>2.70201</td>\n",
              "    </tr>\n",
              "    <tr>\n",
              "      <th>2</th>\n",
              "      <td>Denmark</td>\n",
              "      <td>Western Europe</td>\n",
              "      <td>3</td>\n",
              "      <td>7.527</td>\n",
              "      <td>0.03328</td>\n",
              "      <td>1.32548</td>\n",
              "      <td>1.36058</td>\n",
              "      <td>0.87464</td>\n",
              "      <td>0.64938</td>\n",
              "      <td>0.48357</td>\n",
              "      <td>0.34139</td>\n",
              "      <td>2.49204</td>\n",
              "    </tr>\n",
              "    <tr>\n",
              "      <th>3</th>\n",
              "      <td>Norway</td>\n",
              "      <td>Western Europe</td>\n",
              "      <td>4</td>\n",
              "      <td>7.522</td>\n",
              "      <td>0.03880</td>\n",
              "      <td>1.45900</td>\n",
              "      <td>1.33095</td>\n",
              "      <td>0.88521</td>\n",
              "      <td>0.66973</td>\n",
              "      <td>0.36503</td>\n",
              "      <td>0.34699</td>\n",
              "      <td>2.46531</td>\n",
              "    </tr>\n",
              "    <tr>\n",
              "      <th>4</th>\n",
              "      <td>Canada</td>\n",
              "      <td>North America</td>\n",
              "      <td>5</td>\n",
              "      <td>7.427</td>\n",
              "      <td>0.03553</td>\n",
              "      <td>1.32629</td>\n",
              "      <td>1.32261</td>\n",
              "      <td>0.90563</td>\n",
              "      <td>0.63297</td>\n",
              "      <td>0.32957</td>\n",
              "      <td>0.45811</td>\n",
              "      <td>2.45176</td>\n",
              "    </tr>\n",
              "  </tbody>\n",
              "</table>\n",
              "</div>"
            ],
            "text/plain": [
              "       Country          Region  Happiness Rank  Happiness Score  \\\n",
              "0  Switzerland  Western Europe               1            7.587   \n",
              "1      Iceland  Western Europe               2            7.561   \n",
              "2      Denmark  Western Europe               3            7.527   \n",
              "3       Norway  Western Europe               4            7.522   \n",
              "4       Canada   North America               5            7.427   \n",
              "\n",
              "   Standard Error  Economy (GDP per Capita)   Family  \\\n",
              "0         0.03411                   1.39651  1.34951   \n",
              "1         0.04884                   1.30232  1.40223   \n",
              "2         0.03328                   1.32548  1.36058   \n",
              "3         0.03880                   1.45900  1.33095   \n",
              "4         0.03553                   1.32629  1.32261   \n",
              "\n",
              "   Health (Life Expectancy)  Freedom  Trust (Government Corruption)  \\\n",
              "0                   0.94143  0.66557                        0.41978   \n",
              "1                   0.94784  0.62877                        0.14145   \n",
              "2                   0.87464  0.64938                        0.48357   \n",
              "3                   0.88521  0.66973                        0.36503   \n",
              "4                   0.90563  0.63297                        0.32957   \n",
              "\n",
              "   Generosity  Dystopia Residual  \n",
              "0     0.29678            2.51738  \n",
              "1     0.43630            2.70201  \n",
              "2     0.34139            2.49204  \n",
              "3     0.34699            2.46531  \n",
              "4     0.45811            2.45176  "
            ]
          },
          "execution_count": 22,
          "metadata": {},
          "output_type": "execute_result"
        }
      ]
    },
    {
      "cell_type": "code",
      "metadata": {
        "id": "cognitive-separate",
        "outputId": "6296ae4c-7540-43fd-c448-754c8bf71c76"
      },
      "source": [
        "df2016.info()"
      ],
      "id": "cognitive-separate",
      "execution_count": null,
      "outputs": [
        {
          "name": "stdout",
          "output_type": "stream",
          "text": [
            "<class 'pandas.core.frame.DataFrame'>\n",
            "RangeIndex: 157 entries, 0 to 156\n",
            "Data columns (total 13 columns):\n",
            " #   Column                         Non-Null Count  Dtype  \n",
            "---  ------                         --------------  -----  \n",
            " 0   Country                        157 non-null    object \n",
            " 1   Region                         157 non-null    object \n",
            " 2   Happiness Rank                 157 non-null    int64  \n",
            " 3   Happiness Score                157 non-null    float64\n",
            " 4   Lower Confidence Interval      157 non-null    float64\n",
            " 5   Upper Confidence Interval      157 non-null    float64\n",
            " 6   Economy (GDP per Capita)       157 non-null    float64\n",
            " 7   Family                         157 non-null    float64\n",
            " 8   Health (Life Expectancy)       157 non-null    float64\n",
            " 9   Freedom                        157 non-null    float64\n",
            " 10  Trust (Government Corruption)  157 non-null    float64\n",
            " 11  Generosity                     157 non-null    float64\n",
            " 12  Dystopia Residual              157 non-null    float64\n",
            "dtypes: float64(10), int64(1), object(2)\n",
            "memory usage: 16.1+ KB\n"
          ]
        }
      ]
    },
    {
      "cell_type": "code",
      "metadata": {
        "id": "former-soccer",
        "outputId": "d0f58095-9306-4ec5-ed9a-32badce65b0e"
      },
      "source": [
        "df2017.info()"
      ],
      "id": "former-soccer",
      "execution_count": null,
      "outputs": [
        {
          "name": "stdout",
          "output_type": "stream",
          "text": [
            "<class 'pandas.core.frame.DataFrame'>\n",
            "RangeIndex: 155 entries, 0 to 154\n",
            "Data columns (total 12 columns):\n",
            " #   Column                         Non-Null Count  Dtype  \n",
            "---  ------                         --------------  -----  \n",
            " 0   Country                        155 non-null    object \n",
            " 1   Happiness.Rank                 155 non-null    int64  \n",
            " 2   Happiness.Score                155 non-null    float64\n",
            " 3   Whisker.high                   155 non-null    float64\n",
            " 4   Whisker.low                    155 non-null    float64\n",
            " 5   Economy..GDP.per.Capita.       155 non-null    float64\n",
            " 6   Family                         155 non-null    float64\n",
            " 7   Health..Life.Expectancy.       155 non-null    float64\n",
            " 8   Freedom                        155 non-null    float64\n",
            " 9   Generosity                     155 non-null    float64\n",
            " 10  Trust..Government.Corruption.  155 non-null    float64\n",
            " 11  Dystopia.Residual              155 non-null    float64\n",
            "dtypes: float64(10), int64(1), object(1)\n",
            "memory usage: 14.7+ KB\n"
          ]
        }
      ]
    },
    {
      "cell_type": "code",
      "metadata": {
        "id": "supported-jacob",
        "outputId": "63321333-9ef4-4f89-eff6-c84be75ed424"
      },
      "source": [
        "df2018.info()"
      ],
      "id": "supported-jacob",
      "execution_count": null,
      "outputs": [
        {
          "name": "stdout",
          "output_type": "stream",
          "text": [
            "<class 'pandas.core.frame.DataFrame'>\n",
            "RangeIndex: 156 entries, 0 to 155\n",
            "Data columns (total 9 columns):\n",
            " #   Column                        Non-Null Count  Dtype  \n",
            "---  ------                        --------------  -----  \n",
            " 0   Overall rank                  156 non-null    int64  \n",
            " 1   Country or region             156 non-null    object \n",
            " 2   Score                         156 non-null    float64\n",
            " 3   GDP per capita                156 non-null    float64\n",
            " 4   Social support                156 non-null    float64\n",
            " 5   Healthy life expectancy       156 non-null    float64\n",
            " 6   Freedom to make life choices  156 non-null    float64\n",
            " 7   Generosity                    156 non-null    float64\n",
            " 8   Perceptions of corruption     155 non-null    float64\n",
            "dtypes: float64(7), int64(1), object(1)\n",
            "memory usage: 11.1+ KB\n"
          ]
        }
      ]
    },
    {
      "cell_type": "code",
      "metadata": {
        "id": "collaborative-andorra",
        "outputId": "ea7566ba-4e08-4a80-f47d-715ec8bae99a"
      },
      "source": [
        "df2019.info()\n",
        "df2019.head()"
      ],
      "id": "collaborative-andorra",
      "execution_count": null,
      "outputs": [
        {
          "name": "stdout",
          "output_type": "stream",
          "text": [
            "<class 'pandas.core.frame.DataFrame'>\n",
            "RangeIndex: 156 entries, 0 to 155\n",
            "Data columns (total 9 columns):\n",
            " #   Column                        Non-Null Count  Dtype  \n",
            "---  ------                        --------------  -----  \n",
            " 0   Overall rank                  156 non-null    int64  \n",
            " 1   Country or region             156 non-null    object \n",
            " 2   Score                         156 non-null    float64\n",
            " 3   GDP per capita                156 non-null    float64\n",
            " 4   Social support                156 non-null    float64\n",
            " 5   Healthy life expectancy       156 non-null    float64\n",
            " 6   Freedom to make life choices  156 non-null    float64\n",
            " 7   Generosity                    156 non-null    float64\n",
            " 8   Perceptions of corruption     156 non-null    float64\n",
            "dtypes: float64(7), int64(1), object(1)\n",
            "memory usage: 11.1+ KB\n"
          ]
        },
        {
          "data": {
            "text/html": [
              "<div>\n",
              "<style scoped>\n",
              "    .dataframe tbody tr th:only-of-type {\n",
              "        vertical-align: middle;\n",
              "    }\n",
              "\n",
              "    .dataframe tbody tr th {\n",
              "        vertical-align: top;\n",
              "    }\n",
              "\n",
              "    .dataframe thead th {\n",
              "        text-align: right;\n",
              "    }\n",
              "</style>\n",
              "<table border=\"1\" class=\"dataframe\">\n",
              "  <thead>\n",
              "    <tr style=\"text-align: right;\">\n",
              "      <th></th>\n",
              "      <th>Overall rank</th>\n",
              "      <th>Country or region</th>\n",
              "      <th>Score</th>\n",
              "      <th>GDP per capita</th>\n",
              "      <th>Social support</th>\n",
              "      <th>Healthy life expectancy</th>\n",
              "      <th>Freedom to make life choices</th>\n",
              "      <th>Generosity</th>\n",
              "      <th>Perceptions of corruption</th>\n",
              "    </tr>\n",
              "  </thead>\n",
              "  <tbody>\n",
              "    <tr>\n",
              "      <th>0</th>\n",
              "      <td>1</td>\n",
              "      <td>Finland</td>\n",
              "      <td>7.769</td>\n",
              "      <td>1.340</td>\n",
              "      <td>1.587</td>\n",
              "      <td>0.986</td>\n",
              "      <td>0.596</td>\n",
              "      <td>0.153</td>\n",
              "      <td>0.393</td>\n",
              "    </tr>\n",
              "    <tr>\n",
              "      <th>1</th>\n",
              "      <td>2</td>\n",
              "      <td>Denmark</td>\n",
              "      <td>7.600</td>\n",
              "      <td>1.383</td>\n",
              "      <td>1.573</td>\n",
              "      <td>0.996</td>\n",
              "      <td>0.592</td>\n",
              "      <td>0.252</td>\n",
              "      <td>0.410</td>\n",
              "    </tr>\n",
              "    <tr>\n",
              "      <th>2</th>\n",
              "      <td>3</td>\n",
              "      <td>Norway</td>\n",
              "      <td>7.554</td>\n",
              "      <td>1.488</td>\n",
              "      <td>1.582</td>\n",
              "      <td>1.028</td>\n",
              "      <td>0.603</td>\n",
              "      <td>0.271</td>\n",
              "      <td>0.341</td>\n",
              "    </tr>\n",
              "    <tr>\n",
              "      <th>3</th>\n",
              "      <td>4</td>\n",
              "      <td>Iceland</td>\n",
              "      <td>7.494</td>\n",
              "      <td>1.380</td>\n",
              "      <td>1.624</td>\n",
              "      <td>1.026</td>\n",
              "      <td>0.591</td>\n",
              "      <td>0.354</td>\n",
              "      <td>0.118</td>\n",
              "    </tr>\n",
              "    <tr>\n",
              "      <th>4</th>\n",
              "      <td>5</td>\n",
              "      <td>Netherlands</td>\n",
              "      <td>7.488</td>\n",
              "      <td>1.396</td>\n",
              "      <td>1.522</td>\n",
              "      <td>0.999</td>\n",
              "      <td>0.557</td>\n",
              "      <td>0.322</td>\n",
              "      <td>0.298</td>\n",
              "    </tr>\n",
              "  </tbody>\n",
              "</table>\n",
              "</div>"
            ],
            "text/plain": [
              "   Overall rank Country or region  Score  GDP per capita  Social support  \\\n",
              "0             1           Finland  7.769           1.340           1.587   \n",
              "1             2           Denmark  7.600           1.383           1.573   \n",
              "2             3            Norway  7.554           1.488           1.582   \n",
              "3             4           Iceland  7.494           1.380           1.624   \n",
              "4             5       Netherlands  7.488           1.396           1.522   \n",
              "\n",
              "   Healthy life expectancy  Freedom to make life choices  Generosity  \\\n",
              "0                    0.986                         0.596       0.153   \n",
              "1                    0.996                         0.592       0.252   \n",
              "2                    1.028                         0.603       0.271   \n",
              "3                    1.026                         0.591       0.354   \n",
              "4                    0.999                         0.557       0.322   \n",
              "\n",
              "   Perceptions of corruption  \n",
              "0                      0.393  \n",
              "1                      0.410  \n",
              "2                      0.341  \n",
              "3                      0.118  \n",
              "4                      0.298  "
            ]
          },
          "execution_count": 26,
          "metadata": {},
          "output_type": "execute_result"
        }
      ]
    },
    {
      "cell_type": "markdown",
      "metadata": {
        "id": "eleven-consumption"
      },
      "source": [
        "## Очистка данных\n",
        "### Изменение названия полей"
      ],
      "id": "eleven-consumption"
    },
    {
      "cell_type": "code",
      "metadata": {
        "id": "communist-membership"
      },
      "source": [
        "df2015.rename(columns = {'Economy (GDP per Capita)' : 'GDP', 'Health (Life Expectancy)' : 'Life', 'Trust (Government Corruption)' : 'Trust'}, inplace = True)"
      ],
      "id": "communist-membership",
      "execution_count": null,
      "outputs": []
    },
    {
      "cell_type": "code",
      "metadata": {
        "id": "boring-economics"
      },
      "source": [
        "df2016.rename(columns = {'Economy (GDP per Capita)' : 'GDP', 'Health (Life Expectancy)' : 'Life', 'Trust (Government Corruption)' : 'Trust'}, inplace = True)"
      ],
      "id": "boring-economics",
      "execution_count": null,
      "outputs": []
    },
    {
      "cell_type": "code",
      "metadata": {
        "id": "dental-warehouse"
      },
      "source": [
        "df2017.rename(columns = {'Happiness.Rank' : 'Happiness Rank',\n",
        "                        'Happiness.Score' : 'Happiness Score',\n",
        "                        'Economy..GDP.per.Capita.' : 'GDP',\n",
        "                        'Health..Life.Expectancy.' : 'Life',\n",
        "                        'Dystopia.Residual' : 'Dystopia Residual',\n",
        "                        'Trust..Government.Corruption.' : 'Trust'}, inplace = True)"
      ],
      "id": "dental-warehouse",
      "execution_count": null,
      "outputs": []
    },
    {
      "cell_type": "code",
      "metadata": {
        "id": "intensive-income"
      },
      "source": [
        "df2018.rename(columns = {'Overall rank' : 'Happiness Rank',\n",
        "                        'Score' : 'Happiness Score',\n",
        "                        'Country or region' : 'Country',\n",
        "                        'Social support' : 'Family',\n",
        "                        'Freedom to make life choices' : 'Freedom',\n",
        "                        'GDP per capita' : 'GDP',\n",
        "                        'Healthy life expectancy' : 'Life',\n",
        "                        'Perceptions of corruption' : 'Trust'}, inplace = True)"
      ],
      "id": "intensive-income",
      "execution_count": null,
      "outputs": []
    },
    {
      "cell_type": "code",
      "metadata": {
        "id": "altered-native"
      },
      "source": [
        "df2019.rename(columns = {'Overall rank' : 'Happiness Rank',\n",
        "                        'Score' : 'Happiness Score',\n",
        "                        'Country or region' : 'Country',\n",
        "                        'Social support' : 'Family',\n",
        "                        'Freedom to make life choices' : 'Freedom',\n",
        "                        'GDP per capita' : 'GDP',\n",
        "                        'Healthy life expectancy' : 'Life',\n",
        "                        'Perceptions of corruption' : 'Trust'}, inplace = True)"
      ],
      "id": "altered-native",
      "execution_count": null,
      "outputs": []
    },
    {
      "cell_type": "markdown",
      "metadata": {
        "id": "therapeutic-premises"
      },
      "source": [
        "## Визуализируем данные "
      ],
      "id": "therapeutic-premises"
    },
    {
      "cell_type": "code",
      "metadata": {
        "id": "enclosed-belarus"
      },
      "source": [
        "df2015.drop([\"Standard Error\", \"Region\"], axis=1,inplace=True)\n",
        "df2015[\"Year\"] = 2015\n",
        "df2015.columns = [\"Country\", \"Happiness Rank\", \"Happiness Score\", \"GDP\",\"Family\", \"Life\", \"Freedom\", \"Trust\", \"Generosity\", \"Dystopia Residual\", \"Year\"]\n",
        "\n",
        "df2016.drop([\"Lower Confidence Interval\", \"Upper Confidence Interval\", \"Region\"],axis=1,inplace=True)\n",
        "df2016[\"Year\"] = 2016\n",
        "df2016.columns = [\"Country\", \"Happiness Rank\", \"Happiness Score\", \"GDP\", \"Family\", \"Life\", \"Freedom\", \"Trust\", \"Generosity\", \"Dystopia Residual\", \"Year\"]\n",
        "\n",
        "df2017.drop([\"Whisker.high\",\"Whisker.low\"],axis=1,inplace=True)\n",
        "df2017[\"Year\"] = 2017\n",
        "df2017.columns = [\"Country\", \"Happiness Rank\", \"Happiness Score\", \"GDP\", \"Family\", \"Life\", \"Freedom\",\"Generosity\", \"Trust\", \"Dystopia Residual\", \"Year\"]\n",
        "\n",
        "df2018[\"Year\"] = 2018\n",
        "df2018.columns = [\"Happiness Rank\", \"Country\", \"Happiness Score\", \"GDP\", \"Family\", \"Life\", \"Freedom\",\"Generosity\", \"Trust\", \"Year\"]\n",
        "df2018[\"Dystopia Residual\"] = df2018[\"Happiness Score\"] - df2018[\"GDP\"] - df2018[\"Family\"] - df2018[\"Life\"] - df2018[\"Freedom\"] - df2018[\"Generosity\"] - df2018[\"Trust\"]\n",
        "\n",
        "df2019[\"Year\"] = 2019\n",
        "df2019.columns = [\"Happiness Rank\", \"Country\", \"Happiness Score\", \"GDP\", \"Family\", \"Life\", \"Freedom\",\"Generosity\", \"Trust\", \"Year\"]\n",
        "df2019[\"Dystopia Residual\"] = df2019[\"Happiness Score\"] - df2019[\"GDP\"] - df2019[\"Family\"] - df2019[\"Life\"] - df2019[\"Freedom\"] - df2019[\"Generosity\"] - df2019[\"Trust\"]\n"
      ],
      "id": "enclosed-belarus",
      "execution_count": null,
      "outputs": []
    },
    {
      "cell_type": "code",
      "metadata": {
        "id": "empirical-matter",
        "outputId": "340585f8-0354-4e05-fcf1-9e0134e457ca"
      },
      "source": [
        "df2018.head(3)"
      ],
      "id": "empirical-matter",
      "execution_count": null,
      "outputs": [
        {
          "data": {
            "text/html": [
              "<div>\n",
              "<style scoped>\n",
              "    .dataframe tbody tr th:only-of-type {\n",
              "        vertical-align: middle;\n",
              "    }\n",
              "\n",
              "    .dataframe tbody tr th {\n",
              "        vertical-align: top;\n",
              "    }\n",
              "\n",
              "    .dataframe thead th {\n",
              "        text-align: right;\n",
              "    }\n",
              "</style>\n",
              "<table border=\"1\" class=\"dataframe\">\n",
              "  <thead>\n",
              "    <tr style=\"text-align: right;\">\n",
              "      <th></th>\n",
              "      <th>Happiness Rank</th>\n",
              "      <th>Country</th>\n",
              "      <th>Happiness Score</th>\n",
              "      <th>GDP</th>\n",
              "      <th>Family</th>\n",
              "      <th>Life</th>\n",
              "      <th>Freedom</th>\n",
              "      <th>Generosity</th>\n",
              "      <th>Trust</th>\n",
              "      <th>Year</th>\n",
              "      <th>Dystopia Residual</th>\n",
              "    </tr>\n",
              "  </thead>\n",
              "  <tbody>\n",
              "    <tr>\n",
              "      <th>0</th>\n",
              "      <td>1</td>\n",
              "      <td>Finland</td>\n",
              "      <td>7.632</td>\n",
              "      <td>1.305</td>\n",
              "      <td>1.592</td>\n",
              "      <td>0.874</td>\n",
              "      <td>0.681</td>\n",
              "      <td>0.202</td>\n",
              "      <td>0.393</td>\n",
              "      <td>2018</td>\n",
              "      <td>2.585</td>\n",
              "    </tr>\n",
              "    <tr>\n",
              "      <th>1</th>\n",
              "      <td>2</td>\n",
              "      <td>Norway</td>\n",
              "      <td>7.594</td>\n",
              "      <td>1.456</td>\n",
              "      <td>1.582</td>\n",
              "      <td>0.861</td>\n",
              "      <td>0.686</td>\n",
              "      <td>0.286</td>\n",
              "      <td>0.340</td>\n",
              "      <td>2018</td>\n",
              "      <td>2.383</td>\n",
              "    </tr>\n",
              "    <tr>\n",
              "      <th>2</th>\n",
              "      <td>3</td>\n",
              "      <td>Denmark</td>\n",
              "      <td>7.555</td>\n",
              "      <td>1.351</td>\n",
              "      <td>1.590</td>\n",
              "      <td>0.868</td>\n",
              "      <td>0.683</td>\n",
              "      <td>0.284</td>\n",
              "      <td>0.408</td>\n",
              "      <td>2018</td>\n",
              "      <td>2.371</td>\n",
              "    </tr>\n",
              "  </tbody>\n",
              "</table>\n",
              "</div>"
            ],
            "text/plain": [
              "   Happiness Rank  Country  Happiness Score    GDP  Family   Life  Freedom  \\\n",
              "0               1  Finland            7.632  1.305   1.592  0.874    0.681   \n",
              "1               2   Norway            7.594  1.456   1.582  0.861    0.686   \n",
              "2               3  Denmark            7.555  1.351   1.590  0.868    0.683   \n",
              "\n",
              "   Generosity  Trust  Year  Dystopia Residual  \n",
              "0       0.202  0.393  2018              2.585  \n",
              "1       0.286  0.340  2018              2.383  \n",
              "2       0.284  0.408  2018              2.371  "
            ]
          },
          "execution_count": 33,
          "metadata": {},
          "output_type": "execute_result"
        }
      ]
    },
    {
      "cell_type": "code",
      "metadata": {
        "id": "talented-output",
        "outputId": "27b77a63-e557-442e-8058-0bd70ebb0fcd"
      },
      "source": [
        "happiness_by_country = df2018[['Country', 'Happiness Score']].set_index('Country')\n",
        "happiness_by_country"
      ],
      "id": "talented-output",
      "execution_count": null,
      "outputs": [
        {
          "data": {
            "text/html": [
              "<div>\n",
              "<style scoped>\n",
              "    .dataframe tbody tr th:only-of-type {\n",
              "        vertical-align: middle;\n",
              "    }\n",
              "\n",
              "    .dataframe tbody tr th {\n",
              "        vertical-align: top;\n",
              "    }\n",
              "\n",
              "    .dataframe thead th {\n",
              "        text-align: right;\n",
              "    }\n",
              "</style>\n",
              "<table border=\"1\" class=\"dataframe\">\n",
              "  <thead>\n",
              "    <tr style=\"text-align: right;\">\n",
              "      <th></th>\n",
              "      <th>Happiness Score</th>\n",
              "    </tr>\n",
              "    <tr>\n",
              "      <th>Country</th>\n",
              "      <th></th>\n",
              "    </tr>\n",
              "  </thead>\n",
              "  <tbody>\n",
              "    <tr>\n",
              "      <th>Finland</th>\n",
              "      <td>7.632</td>\n",
              "    </tr>\n",
              "    <tr>\n",
              "      <th>Norway</th>\n",
              "      <td>7.594</td>\n",
              "    </tr>\n",
              "    <tr>\n",
              "      <th>Denmark</th>\n",
              "      <td>7.555</td>\n",
              "    </tr>\n",
              "    <tr>\n",
              "      <th>Iceland</th>\n",
              "      <td>7.495</td>\n",
              "    </tr>\n",
              "    <tr>\n",
              "      <th>Switzerland</th>\n",
              "      <td>7.487</td>\n",
              "    </tr>\n",
              "    <tr>\n",
              "      <th>...</th>\n",
              "      <td>...</td>\n",
              "    </tr>\n",
              "    <tr>\n",
              "      <th>Yemen</th>\n",
              "      <td>3.355</td>\n",
              "    </tr>\n",
              "    <tr>\n",
              "      <th>Tanzania</th>\n",
              "      <td>3.303</td>\n",
              "    </tr>\n",
              "    <tr>\n",
              "      <th>South Sudan</th>\n",
              "      <td>3.254</td>\n",
              "    </tr>\n",
              "    <tr>\n",
              "      <th>Central African Republic</th>\n",
              "      <td>3.083</td>\n",
              "    </tr>\n",
              "    <tr>\n",
              "      <th>Burundi</th>\n",
              "      <td>2.905</td>\n",
              "    </tr>\n",
              "  </tbody>\n",
              "</table>\n",
              "<p>156 rows × 1 columns</p>\n",
              "</div>"
            ],
            "text/plain": [
              "                          Happiness Score\n",
              "Country                                  \n",
              "Finland                             7.632\n",
              "Norway                              7.594\n",
              "Denmark                             7.555\n",
              "Iceland                             7.495\n",
              "Switzerland                         7.487\n",
              "...                                   ...\n",
              "Yemen                               3.355\n",
              "Tanzania                            3.303\n",
              "South Sudan                         3.254\n",
              "Central African Republic            3.083\n",
              "Burundi                             2.905\n",
              "\n",
              "[156 rows x 1 columns]"
            ]
          },
          "execution_count": 34,
          "metadata": {},
          "output_type": "execute_result"
        }
      ]
    },
    {
      "cell_type": "code",
      "metadata": {
        "id": "pleasant-pursuit",
        "outputId": "1d35cdd1-077c-4c23-c978-8022950ffb9e"
      },
      "source": [
        "happiness_by_country.loc[['Finland', 'Norway', 'Denmark', 'South Sudan', 'Central African Republic', 'Burundi']].plot(kind='bar', \n",
        "                                                                  title='Топ-3 стран с самым высоким и с самым низким индексом счастья в 2018 году',\n",
        "                                                                  xlabel='Страна',\n",
        "                                                                  ylabel='Индекс счастья')"
      ],
      "id": "pleasant-pursuit",
      "execution_count": null,
      "outputs": [
        {
          "data": {
            "text/plain": [
              "<AxesSubplot:title={'center':'Топ-3 стран с самым высоким и с самым низким индексом счастья в 2018 году'}, xlabel='Страна', ylabel='Индекс счастья'>"
            ]
          },
          "execution_count": 35,
          "metadata": {},
          "output_type": "execute_result"
        },
        {
          "data": {
            "image/png": "[encoded data removed]",
            "text/plain": [
              "<Figure size 792x360 with 1 Axes>"
            ]
          },
          "metadata": {
            "needs_background": "light"
          },
          "output_type": "display_data"
        }
      ]
    },
    {
      "cell_type": "markdown",
      "metadata": {
        "id": "conditional-fossil"
      },
      "source": [
        "## Тройки стран с самым высоким показателем индекса счастья и с самым низким.\n",
        "По данному графику, можно определить региональную принадлежность стран с самым высоким и с самым низким показателем. Можно сказать, что самые благополучные страны это страны Скандинавского полуострова, а самые неблагополучные это страны африканского континента."
      ],
      "id": "conditional-fossil"
    },
    {
      "cell_type": "code",
      "metadata": {
        "id": "compact-charleston",
        "outputId": "a0baff77-b147-4c38-d565-49ab9ab97b42"
      },
      "source": [
        "df_concat = pd.concat([df2015, df2016, df2017, df2018, df2019], ignore_index=True)\n",
        "df_concat.head()\n",
        "df_concat.info()\n",
        "# Производим слияние всех датафреймов, для дальнейшего анализа."
      ],
      "id": "compact-charleston",
      "execution_count": null,
      "outputs": [
        {
          "name": "stdout",
          "output_type": "stream",
          "text": [
            "<class 'pandas.core.frame.DataFrame'>\n",
            "RangeIndex: 782 entries, 0 to 781\n",
            "Data columns (total 11 columns):\n",
            " #   Column             Non-Null Count  Dtype  \n",
            "---  ------             --------------  -----  \n",
            " 0   Country            782 non-null    object \n",
            " 1   Happiness Rank     782 non-null    int64  \n",
            " 2   Happiness Score    782 non-null    float64\n",
            " 3   GDP                782 non-null    float64\n",
            " 4   Family             782 non-null    float64\n",
            " 5   Life               782 non-null    float64\n",
            " 6   Freedom            782 non-null    float64\n",
            " 7   Trust              781 non-null    float64\n",
            " 8   Generosity         782 non-null    float64\n",
            " 9   Dystopia Residual  781 non-null    float64\n",
            " 10  Year               782 non-null    int64  \n",
            "dtypes: float64(8), int64(2), object(1)\n",
            "memory usage: 67.3+ KB\n"
          ]
        }
      ]
    },
    {
      "cell_type": "code",
      "metadata": {
        "id": "located-identity",
        "outputId": "1942a2e4-5af5-43d0-aa26-64c47a0030a2"
      },
      "source": [
        "# Выбираем строки, для дальнейшего анализа\n",
        "dynamics_by_Switzerland = df_concat[df_concat['Country'].isin(['Switzerland'])].set_index('Year')\n",
        "dynamics_by_Switzerland\n",
        "dynamics_by_Burundi = df_concat[df_concat['Country'].isin(['Burundi'])].set_index('Year')\n",
        "dynamics_by_Burundi"
      ],
      "id": "located-identity",
      "execution_count": null,
      "outputs": [
        {
          "data": {
            "text/html": [
              "<div>\n",
              "<style scoped>\n",
              "    .dataframe tbody tr th:only-of-type {\n",
              "        vertical-align: middle;\n",
              "    }\n",
              "\n",
              "    .dataframe tbody tr th {\n",
              "        vertical-align: top;\n",
              "    }\n",
              "\n",
              "    .dataframe thead th {\n",
              "        text-align: right;\n",
              "    }\n",
              "</style>\n",
              "<table border=\"1\" class=\"dataframe\">\n",
              "  <thead>\n",
              "    <tr style=\"text-align: right;\">\n",
              "      <th></th>\n",
              "      <th>Country</th>\n",
              "      <th>Happiness Rank</th>\n",
              "      <th>Happiness Score</th>\n",
              "      <th>GDP</th>\n",
              "      <th>Family</th>\n",
              "      <th>Life</th>\n",
              "      <th>Freedom</th>\n",
              "      <th>Trust</th>\n",
              "      <th>Generosity</th>\n",
              "      <th>Dystopia Residual</th>\n",
              "    </tr>\n",
              "    <tr>\n",
              "      <th>Year</th>\n",
              "      <th></th>\n",
              "      <th></th>\n",
              "      <th></th>\n",
              "      <th></th>\n",
              "      <th></th>\n",
              "      <th></th>\n",
              "      <th></th>\n",
              "      <th></th>\n",
              "      <th></th>\n",
              "      <th></th>\n",
              "    </tr>\n",
              "  </thead>\n",
              "  <tbody>\n",
              "    <tr>\n",
              "      <th>2015</th>\n",
              "      <td>Burundi</td>\n",
              "      <td>157</td>\n",
              "      <td>2.905</td>\n",
              "      <td>0.015300</td>\n",
              "      <td>0.415870</td>\n",
              "      <td>0.223960</td>\n",
              "      <td>0.118500</td>\n",
              "      <td>0.100620</td>\n",
              "      <td>0.197270</td>\n",
              "      <td>1.833020</td>\n",
              "    </tr>\n",
              "    <tr>\n",
              "      <th>2016</th>\n",
              "      <td>Burundi</td>\n",
              "      <td>157</td>\n",
              "      <td>2.905</td>\n",
              "      <td>0.068310</td>\n",
              "      <td>0.234420</td>\n",
              "      <td>0.157470</td>\n",
              "      <td>0.043200</td>\n",
              "      <td>0.094190</td>\n",
              "      <td>0.202900</td>\n",
              "      <td>2.104040</td>\n",
              "    </tr>\n",
              "    <tr>\n",
              "      <th>2017</th>\n",
              "      <td>Burundi</td>\n",
              "      <td>154</td>\n",
              "      <td>2.905</td>\n",
              "      <td>0.091623</td>\n",
              "      <td>0.629794</td>\n",
              "      <td>0.151611</td>\n",
              "      <td>0.059901</td>\n",
              "      <td>0.084148</td>\n",
              "      <td>0.204435</td>\n",
              "      <td>1.683024</td>\n",
              "    </tr>\n",
              "    <tr>\n",
              "      <th>2018</th>\n",
              "      <td>Burundi</td>\n",
              "      <td>156</td>\n",
              "      <td>2.905</td>\n",
              "      <td>0.091000</td>\n",
              "      <td>0.627000</td>\n",
              "      <td>0.145000</td>\n",
              "      <td>0.065000</td>\n",
              "      <td>0.076000</td>\n",
              "      <td>0.149000</td>\n",
              "      <td>1.752000</td>\n",
              "    </tr>\n",
              "    <tr>\n",
              "      <th>2019</th>\n",
              "      <td>Burundi</td>\n",
              "      <td>145</td>\n",
              "      <td>3.775</td>\n",
              "      <td>0.046000</td>\n",
              "      <td>0.447000</td>\n",
              "      <td>0.380000</td>\n",
              "      <td>0.220000</td>\n",
              "      <td>0.180000</td>\n",
              "      <td>0.176000</td>\n",
              "      <td>2.326000</td>\n",
              "    </tr>\n",
              "  </tbody>\n",
              "</table>\n",
              "</div>"
            ],
            "text/plain": [
              "      Country  Happiness Rank  Happiness Score       GDP    Family      Life  \\\n",
              "Year                                                                           \n",
              "2015  Burundi             157            2.905  0.015300  0.415870  0.223960   \n",
              "2016  Burundi             157            2.905  0.068310  0.234420  0.157470   \n",
              "2017  Burundi             154            2.905  0.091623  0.629794  0.151611   \n",
              "2018  Burundi             156            2.905  0.091000  0.627000  0.145000   \n",
              "2019  Burundi             145            3.775  0.046000  0.447000  0.380000   \n",
              "\n",
              "       Freedom     Trust  Generosity  Dystopia Residual  \n",
              "Year                                                     \n",
              "2015  0.118500  0.100620    0.197270           1.833020  \n",
              "2016  0.043200  0.094190    0.202900           2.104040  \n",
              "2017  0.059901  0.084148    0.204435           1.683024  \n",
              "2018  0.065000  0.076000    0.149000           1.752000  \n",
              "2019  0.220000  0.180000    0.176000           2.326000  "
            ]
          },
          "execution_count": 37,
          "metadata": {},
          "output_type": "execute_result"
        }
      ]
    },
    {
      "cell_type": "code",
      "metadata": {
        "id": "closing-drilling",
        "outputId": "6ec81981-c2e9-486d-fc82-93fbc02c8194"
      },
      "source": [
        "plt.plot(dynamics_by_Switzerland.index, dynamics_by_Switzerland['Happiness Score'])\n",
        "plt.plot(dynamics_by_Burundi.index, dynamics_by_Burundi['Happiness Score'])\n",
        "plt.title('Динамика уровня по годам Швейцария и Бурунди')\n",
        "plt.xlabel('Год')\n",
        "plt.ylabel('Индекс счастья')\n",
        "plt.legend('SB')"
      ],
      "id": "closing-drilling",
      "execution_count": null,
      "outputs": [
        {
          "data": {
            "text/plain": [
              "<matplotlib.legend.Legend at 0x2dc16771670>"
            ]
          },
          "execution_count": 38,
          "metadata": {},
          "output_type": "execute_result"
        },
        {
          "data": {
            "image/png": "[encoded data removed]",
            "text/plain": [
              "<Figure size 792x360 with 1 Axes>"
            ]
          },
          "metadata": {
            "needs_background": "light"
          },
          "output_type": "display_data"
        }
      ]
    },
    {
      "cell_type": "markdown",
      "metadata": {
        "id": "small-receptor"
      },
      "source": [
        "## Динамика индекса за период с 2016 по 2019 годы\n",
        "Рассмотрим динамику индекса в первой и последней странах из списка.\n",
        "Мы видим постепенное снижение индекса благополучия в первой стране. и резкий подъем показателя в 2018 году. Можно провести исследование чтобы выяснить с чем это связвно."
      ],
      "id": "small-receptor"
    },
    {
      "cell_type": "code",
      "metadata": {
        "id": "consecutive-jacket",
        "outputId": "019536fd-5972-4232-bb5e-a4765e48c6e0"
      },
      "source": [
        "# посмотрим на взаимосвязь индекса счастья и доверием правительству\n",
        "df2019.plot(kind='scatter', \n",
        "        x='Happiness Score', \n",
        "        y='Trust', \n",
        "        title='Корреляция между доверием правительству и индексом счастья')\n",
        "plt.show()\n",
        "df2019.plot(kind='scatter', \n",
        "        x='Happiness Score', \n",
        "        y='Family', \n",
        "        title='Корреляция между количеством браков и индексом счастья')"
      ],
      "id": "consecutive-jacket",
      "execution_count": null,
      "outputs": [
        {
          "data": {
            "image/png": "[encoded data removed]",
            "text/plain": [
              "<Figure size 792x360 with 1 Axes>"
            ]
          },
          "metadata": {
            "needs_background": "light"
          },
          "output_type": "display_data"
        },
        {
          "data": {
            "text/plain": [
              "<AxesSubplot:title={'center':'Корреляция между количеством браков и индексом счастья'}, xlabel='Happiness Score', ylabel='Family'>"
            ]
          },
          "execution_count": 41,
          "metadata": {},
          "output_type": "execute_result"
        },
        {
          "data": {
            "image/png": "[encoded data removed]",
            "text/plain": [
              "<Figure size 792x360 with 1 Axes>"
            ]
          },
          "metadata": {
            "needs_background": "light"
          },
          "output_type": "display_data"
        }
      ]
    },
    {
      "cell_type": "markdown",
      "metadata": {
        "id": "uniform-defeat"
      },
      "source": [
        "## Показатель индекса благополучия.\n",
        "Налицо прямая зависимость количества зарегистрированных браков и показателя благополучия.\n",
        "Антикоррупционные меры повышают уровень благополучия в стране."
      ],
      "id": "uniform-defeat"
    },
    {
      "cell_type": "code",
      "metadata": {
        "id": "brazilian-video"
      },
      "source": [
        "import seaborn as sns"
      ],
      "id": "brazilian-video",
      "execution_count": null,
      "outputs": []
    },
    {
      "cell_type": "code",
      "metadata": {
        "id": "vocal-interview",
        "outputId": "93a0c590-6748-4258-8215-f8a5a48d157e"
      },
      "source": [
        "sns.histplot(df2018['Dystopia Residual'])\n",
        "plt.title('Распределение антиутопических настроений')"
      ],
      "id": "vocal-interview",
      "execution_count": null,
      "outputs": [
        {
          "data": {
            "text/plain": [
              "Text(0.5, 1.0, 'Распределение антиутопических настроений')"
            ]
          },
          "execution_count": 44,
          "metadata": {},
          "output_type": "execute_result"
        },
        {
          "data": {
            "image/png": "[encoded data removed]",
            "text/plain": [
              "<Figure size 792x360 with 1 Axes>"
            ]
          },
          "metadata": {
            "needs_background": "light"
          },
          "output_type": "display_data"
        }
      ]
    },
    {
      "cell_type": "markdown",
      "metadata": {
        "id": "buried-india"
      },
      "source": [
        "## Распределение антиутопических настроений в 2018 году\n",
        "Самое большое количество антиутопических настроений имеет приблизительный индекс в диапазоне 1,7 - 1,8"
      ],
      "id": "buried-india"
    },
    {
      "cell_type": "code",
      "metadata": {
        "id": "pregnant-killer"
      },
      "source": [
        ""
      ],
      "id": "pregnant-killer",
      "execution_count": null,
      "outputs": []
    }
  ]
}